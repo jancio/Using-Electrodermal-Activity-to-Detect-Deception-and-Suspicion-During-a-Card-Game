{
 "cells": [
  {
   "cell_type": "code",
   "execution_count": 1,
   "metadata": {},
   "outputs": [
    {
     "name": "stdout",
     "output_type": "stream",
     "text": [
      "SID | mean skin conductance difference | handedness\n",
      "01 : 0.524951 \t\tR\n",
      "02 : 0.85291 \t\tR\n",
      "03 : -0.0742603 \t\tR\n",
      "04 : 1.0736 \t\tR\n",
      "05 : 0.171726 \t\tR\n",
      "06 : 0.177441 \t\tR\n",
      "07 : 0.116526 \t\tR\n",
      "08 : -0.0735941 \t\tR\n",
      "09 : -0.0202157 \t\tL\n",
      "10 : 0.0878184 \t\tR\n",
      "11 : 0.187202 \t\tL\n",
      "12 : 0.909572 \t\tR\n",
      "13 : 0.230312 \t\tR\n",
      "14 : -1.29338 \t\tR\n",
      "15 : 0.886739 \t\tR\n",
      "16 : 0.0195867 \t\tR\n",
      "17 : 0.677766 \t\tR\n",
      "18 : 0.139503 \t\tR\n",
      "19 : 2.08436 \t\tR\n",
      "20 : 3.38126 \t\tL\n"
     ]
    }
   ],
   "source": [
    "######################################################################################\n",
    "# Using Electrodermal Activity to Detect Deception and Suspicion during a Card Game\n",
    "# Affective Computing - Mini-project\n",
    "# Jan Ondras\n",
    "# Dec 2017 - Jan 2018\n",
    "######################################################################################\n",
    "##############################################################\n",
    "# Calculate left-right hand EDA differences after the baseline period\n",
    "##############################################################\n",
    "\n",
    "import glob\n",
    "import csv\n",
    "from scipy.signal import butter, filtfilt\n",
    "import numpy as np\n",
    "import matplotlib.pyplot as plt\n",
    "from datetime import datetime, timedelta\n",
    "\n",
    "meanDiffs = []\n",
    "# Load EDA baseline epochs for each subject \n",
    "# Structure of EDA baseline epochs file: \n",
    "# Subject ID | Baseline epoch start (system) time | Baseline epoch end (system) time \n",
    "baselines = np.loadtxt('./../Experiment/EDA/BaselineEDA.csv', delimiter=\",\", skiprows=1, dtype=str)\n",
    "baseline_epochs = dict(zip(baselines[:, 0], baselines[:, 1:]))\n",
    "# print \"Baselines: \\n\", baseline_epochs\n",
    "\n",
    "handedness_data = np.loadtxt('./../Experiment/handedness.csv', delimiter=\",\", skiprows=1, dtype=str)\n",
    "    \n",
    "print \"SID | mean skin conductance difference | handedness\"\n",
    "# Iterate over subjects\n",
    "for i,row in enumerate(baselines):\n",
    "    SID = row[0]\n",
    "\n",
    "    # Load EDA files (fields are strings)\n",
    "    all_L_data = np.loadtxt('./../Experiment/EDA/S' + SID + '_L.csv', delimiter=\",\", skiprows=8, dtype=str)\n",
    "    all_R_data = np.loadtxt('./../Experiment/EDA/S' + SID + '_R.csv', delimiter=\",\", skiprows=8, dtype=str)\n",
    "    # EDA values are no longer strings, but times are\n",
    "    L_times = all_L_data[:,0]\n",
    "    L_EDA = all_L_data[:,6].astype(np.float32)\n",
    "    R_times = all_R_data[:,0]\n",
    "    R_EDA = all_R_data[:,6].astype(np.float32)\n",
    "    \n",
    "    # Calculate EDA means after skipping baseline period\n",
    "    meanL = np.mean([EDA for t,EDA in zip(L_times,L_EDA) if t > baseline_epochs[SID][1] ])\n",
    "    meanR = np.mean([EDA for t,EDA in zip(R_times,R_EDA) if t > baseline_epochs[SID][1] ])\n",
    "    meanDiffs.append(meanL - meanR)\n",
    "    print SID, \":\", meanDiffs[-1], \"\\t\\t\", handedness_data[i][1]\n",
    "    \n"
   ]
  },
  {
   "cell_type": "code",
   "execution_count": 2,
   "metadata": {},
   "outputs": [
    {
     "data": {
      "image/png": "[encoded data removed]",
      "text/plain": [
       "<matplotlib.figure.Figure at 0x7fb110bbdc10>"
      ]
     },
     "metadata": {},
     "output_type": "display_data"
    },
    {
     "name": "stdout",
     "output_type": "stream",
     "text": [
      "Left-handed: blue, Right-handed: red\n"
     ]
    },
    {
     "data": {
      "image/png": "[encoded data removed]",
      "text/plain": [
       "<matplotlib.figure.Figure at 0x7fb14c6986d0>"
      ]
     },
     "metadata": {},
     "output_type": "display_data"
    }
   ],
   "source": [
    "# PLOTTING\n",
    "\n",
    "color_by_handedness = [ 'blue' if row[1] == 'L' else 'red' for row in handedness_data]\n",
    "plt.figure(figsize=(6,2))\n",
    "x = range(1,1+len(meanDiffs))\n",
    "plt.bar(x, meanDiffs, width=0.8, align='center', color=color_by_handedness)\n",
    "plt.xticks(x, baselines[:, 0])\n",
    "plt.xlabel('Subject ID')\n",
    "plt.ylabel('$EDA_L - EDA_R$  $(\\mu S)$')\n",
    "plt.title('Mean skin conductance difference (left - right hand)')\n",
    "# plt.legend()\n",
    "plt.show()\n",
    "print \"Left-handed: blue, Right-handed: red\"\n",
    "\n",
    "plt.figure(figsize=(7,1.8))\n",
    "N = 20 #20,15,10,5 ---------------- set granularity\n",
    "step = 3.5/N\n",
    "bins = np.unique(np.concatenate((np.linspace(-3.5,0.,N), np.linspace(0.,3.5,N)), axis=0))\n",
    "plt.hist(meanDiffs, bins=bins, edgecolor='black', label='bin size = '+str(3.5/N)+' $\\mu S$')#, width=1.1*step)\n",
    "# plt.xlabel('$EDA_L - EDA_R$  $(\\mu S)$')\n",
    "plt.xlabel('Mean skin conductance difference $\\Delta_{L-R}$ $(\\mu S)$')\n",
    "plt.ylabel('Number of subjects')\n",
    "# plt.title('Distribution of mean skin conductance difference (left - right hand)')\n",
    "plt.legend()\n",
    "plt.show()"
   ]
  },
  {
   "cell_type": "code",
   "execution_count": null,
   "metadata": {},
   "outputs": [],
   "source": []
  }
 ],
 "metadata": {
  "kernelspec": {
   "display_name": "Python 2",
   "language": "python",
   "name": "python2"
  },
  "language_info": {
   "codemirror_mode": {
    "name": "ipython",
    "version": 2
   },
   "file_extension": ".py",
   "mimetype": "text/x-python",
   "name": "python",
   "nbconvert_exporter": "python",
   "pygments_lexer": "ipython2",
   "version": "2.7.12"
  }
 },
 "nbformat": 4,
 "nbformat_minor": 2
}
