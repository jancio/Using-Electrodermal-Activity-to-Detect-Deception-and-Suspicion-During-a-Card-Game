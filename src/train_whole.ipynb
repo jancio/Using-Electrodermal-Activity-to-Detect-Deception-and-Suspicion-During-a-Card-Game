{
 "cells": [
  {
   "cell_type": "code",
   "execution_count": 7,
   "metadata": {},
   "outputs": [
    {
     "name": "stdout",
     "output_type": "stream",
     "text": [
      "Trained SVM weights: \n",
      "[0.5059255242514243, -1.1291537919455246, -0.2706482966164705, -2.5817057826703516, 1.584571244317838, 0.45436367291323454, -0.30662349982247195, -2.370950253342526, 0.33085034095949367, -2.0093579309745957, 1.8069326248927082, 0.24596559501680476]\n"
     ]
    },
    {
     "data": {
      "image/png": "[encoded data removed]",
      "text/plain": [
       "<matplotlib.figure.Figure at 0x7f95c2054710>"
      ]
     },
     "metadata": {},
     "output_type": "display_data"
    }
   ],
   "source": [
    "######################################################################################\n",
    "# Using Electrodermal Activity to Detect Deception and Suspicion during a Card Game\n",
    "# Affective Computing - Mini-project\n",
    "# Jan Ondras\n",
    "# Dec 2017 - Jan 2018\n",
    "######################################################################################\n",
    "# Train on whole dataset using optimal parameters\n",
    "# DECEPTION \n",
    "######################################################################################\n",
    "\n",
    "import itertools\n",
    "import numpy as np\n",
    "import glob\n",
    "import csv\n",
    "import time\n",
    "from imblearn.over_sampling import RandomOverSampler\n",
    "from collections import Counter\n",
    "import matplotlib.pyplot as plt\n",
    "from sklearn.svm import LinearSVC\n",
    "from sklearn.metrics import classification_report, accuracy_score, recall_score, precision_score, f1_score, confusion_matrix\n",
    "from sklearn.model_selection import GridSearchCV, train_test_split, StratifiedKFold, cross_val_score\n",
    "ed_best = 4 #index for 3.\n",
    "mdel_best = 1 #index for 1.\n",
    "C_best = 8.\n",
    "data = np.loadtxt('./../Experiment/ExtractedFeatures/features_deception_u_'+str(ed_best)+'_'+str(mdel_best)+'.csv', \n",
    "                  delimiter=\",\", skiprows=0, dtype=str)   \n",
    "X = data[:,1:-2].astype(np.float32)\n",
    "y = data[:,-1].astype(np.int)\n",
    "clf = LinearSVC(C=C_best)\n",
    "clf.fit(X, y)\n",
    "print \"Trained SVM weights: \\n\", clf.coef_[0].tolist()\n",
    "\n",
    "# Ploting\n",
    "features_names = ['L'+str(i) for i in range(1,7)]\n",
    "features_names.extend(['R'+str(i) for i in range(1,7)])\n",
    "c = abs(clf.coef_[0])\n",
    "# c,features_names = zip(*sorted(zip(c,features_names))) # for sorting \n",
    "plt.figure()\n",
    "plt.barh(range(len(features_names)), c, align='center')\n",
    "plt.yticks(range(len(features_names)), features_names)\n",
    "plt.xlabel('SVM weight')\n",
    "plt.ylabel('Feature')\n",
    "plt.show()"
   ]
  },
  {
   "cell_type": "code",
   "execution_count": 6,
   "metadata": {},
   "outputs": [
    {
     "name": "stdout",
     "output_type": "stream",
     "text": [
      "Trained SVM weights: \n",
      "[-0.21374487683611662, 0.12114273523001341, 0.04649269817542312, 0.11877335457410454, 0.09601444138075231, 0.2525450509437588, -0.06869889741803473, 0.0735102948231323, 0.04239085166278862, 0.142358499091764, 0.07743162361043343, 0.25454236286055393]\n"
     ]
    }
   ],
   "source": [
    "######################################################################################\n",
    "# Train on whole dataset using optimal parameters\n",
    "# SUSPICION \n",
    "######################################################################################\n",
    "\n",
    "import itertools\n",
    "import numpy as np\n",
    "import glob\n",
    "import csv\n",
    "import time\n",
    "from imblearn.over_sampling import RandomOverSampler\n",
    "from collections import Counter\n",
    "import matplotlib.pyplot as plt\n",
    "from sklearn.svm import LinearSVC\n",
    "from sklearn.metrics import classification_report, accuracy_score, recall_score, precision_score, f1_score, confusion_matrix\n",
    "from sklearn.model_selection import GridSearchCV, train_test_split, StratifiedKFold, cross_val_score\n",
    "ed_best = 4 #index for 3.\n",
    "msel_best = 6 #index for 3.5\n",
    "C_best = 0.03125\n",
    "data = np.loadtxt('./../Experiment/ExtractedFeatures/features_suspicion_u_'+str(ed_best)+'_'+str(msel_best)+'.csv', \n",
    "                  delimiter=\",\", skiprows=0, dtype=str)   \n",
    "X = data[:,1:-2].astype(np.float32)\n",
    "y = data[:,-1].astype(np.int)\n",
    "clf = LinearSVC(C=C_best)\n",
    "clf.fit(X, y)\n",
    "print \"Trained SVM weights: \\n\", clf.coef_[0].tolist()"
   ]
  },
  {
   "cell_type": "code",
   "execution_count": null,
   "metadata": {},
   "outputs": [],
   "source": []
  }
 ],
 "metadata": {
  "kernelspec": {
   "display_name": "Python 2",
   "language": "python",
   "name": "python2"
  },
  "language_info": {
   "codemirror_mode": {
    "name": "ipython",
    "version": 2
   },
   "file_extension": ".py",
   "mimetype": "text/x-python",
   "name": "python",
   "nbconvert_exporter": "python",
   "pygments_lexer": "ipython2",
   "version": "2.7.12"
  }
 },
 "nbformat": 4,
 "nbformat_minor": 2
}
