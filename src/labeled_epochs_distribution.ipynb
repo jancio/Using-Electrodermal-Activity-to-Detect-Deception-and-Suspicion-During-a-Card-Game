{
 "cells": [
  {
   "cell_type": "code",
   "execution_count": 4,
   "metadata": {},
   "outputs": [
    {
     "name": "stdout",
     "output_type": "stream",
     "text": [
      "Number of deception epochs: \n",
      "496\n",
      "Number of truth epochs: \n",
      "635\n",
      "Number of suspicion epochs: \n",
      "300\n",
      "Number of trust epochs: \n",
      "1180\n",
      "Checksums 1131 1480\n"
     ]
    }
   ],
   "source": [
    "######################################################################################\n",
    "# Using Electrodermal Activity to Detect Deception and Suspicion during a Card Game\n",
    "# Affective Computing - Mini-project\n",
    "# Jan Ondras\n",
    "# Dec 2017 - Jan 2018\n",
    "######################################################################################\n",
    "# Get number of labeled epochs for each epoch type\n",
    "######################################################################################\n",
    "\n",
    "import numpy as np\n",
    "dataD = np.loadtxt('./../Experiment/ExtractedFeatures/features_deception_u_0_0.csv', \n",
    "                  delimiter=\",\", skiprows=0, dtype=str)   \n",
    "print \"Number of deception epochs: \"\n",
    "print len( [r for r in dataD if r[-2] == 'deception'] )\n",
    "print \"Number of truth epochs: \"\n",
    "print len( [r for r in dataD if r[-2] == 'truth'] )\n",
    "\n",
    "dataS = np.loadtxt('./../Experiment/ExtractedFeatures/features_suspicion_u_0_0.csv', \n",
    "                  delimiter=\",\", skiprows=0, dtype=str)   \n",
    "print \"Number of suspicion epochs: \"\n",
    "print len( [r for r in dataS if r[-2] == 'suspicion'] )\n",
    "print \"Number of trust epochs: \"\n",
    "print len( [r for r in dataS if r[-2] == 'trust'] )\n",
    "print \"Checksums\", len(dataD), len(dataS)"
   ]
  }
 ],
 "metadata": {
  "kernelspec": {
   "display_name": "Python 2",
   "language": "python",
   "name": "python2"
  },
  "language_info": {
   "codemirror_mode": {
    "name": "ipython",
    "version": 2
   },
   "file_extension": ".py",
   "mimetype": "text/x-python",
   "name": "python",
   "nbconvert_exporter": "python",
   "pygments_lexer": "ipython2",
   "version": "2.7.12"
  }
 },
 "nbformat": 4,
 "nbformat_minor": 2
}
